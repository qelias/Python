{
 "cells": [
  {
   "cell_type": "code",
   "execution_count": 1,
   "metadata": {},
   "outputs": [],
   "source": [
    "import numpy as np\n",
    "import pandas as pd\n",
    "import matplotlib.pyplot as plt\n",
    "import seaborn as sns"
   ]
  },
  {
   "cell_type": "code",
   "execution_count": 2,
   "metadata": {},
   "outputs": [],
   "source": [
    "filepath = 'G:\\\\Mes Documents\\\\Documents\\\\Python\\\\Udemy-Python-for-Machine-Learning-and-Data-Science-Masterclass\\\\Notes\\\\05-Seaborn'"
   ]
  },
  {
   "cell_type": "code",
   "execution_count": 3,
   "metadata": {},
   "outputs": [],
   "source": [
    "df = pd.read_csv(filepath+'\\\\dm_office_sales.csv')"
   ]
  },
  {
   "cell_type": "code",
   "execution_count": 4,
   "metadata": {},
   "outputs": [
    {
     "data": {
      "text/html": [
       "<div>\n",
       "<style scoped>\n",
       "    .dataframe tbody tr th:only-of-type {\n",
       "        vertical-align: middle;\n",
       "    }\n",
       "\n",
       "    .dataframe tbody tr th {\n",
       "        vertical-align: top;\n",
       "    }\n",
       "\n",
       "    .dataframe thead th {\n",
       "        text-align: right;\n",
       "    }\n",
       "</style>\n",
       "<table border=\"1\" class=\"dataframe\">\n",
       "  <thead>\n",
       "    <tr style=\"text-align: right;\">\n",
       "      <th></th>\n",
       "      <th>division</th>\n",
       "      <th>level of education</th>\n",
       "      <th>training level</th>\n",
       "      <th>work experience</th>\n",
       "      <th>salary</th>\n",
       "      <th>sales</th>\n",
       "    </tr>\n",
       "  </thead>\n",
       "  <tbody>\n",
       "    <tr>\n",
       "      <th>0</th>\n",
       "      <td>printers</td>\n",
       "      <td>some college</td>\n",
       "      <td>2</td>\n",
       "      <td>6</td>\n",
       "      <td>91684</td>\n",
       "      <td>372302</td>\n",
       "    </tr>\n",
       "    <tr>\n",
       "      <th>1</th>\n",
       "      <td>printers</td>\n",
       "      <td>associate's degree</td>\n",
       "      <td>2</td>\n",
       "      <td>10</td>\n",
       "      <td>119679</td>\n",
       "      <td>495660</td>\n",
       "    </tr>\n",
       "    <tr>\n",
       "      <th>2</th>\n",
       "      <td>peripherals</td>\n",
       "      <td>high school</td>\n",
       "      <td>0</td>\n",
       "      <td>9</td>\n",
       "      <td>82045</td>\n",
       "      <td>320453</td>\n",
       "    </tr>\n",
       "    <tr>\n",
       "      <th>3</th>\n",
       "      <td>office supplies</td>\n",
       "      <td>associate's degree</td>\n",
       "      <td>2</td>\n",
       "      <td>5</td>\n",
       "      <td>92949</td>\n",
       "      <td>377148</td>\n",
       "    </tr>\n",
       "    <tr>\n",
       "      <th>4</th>\n",
       "      <td>office supplies</td>\n",
       "      <td>high school</td>\n",
       "      <td>1</td>\n",
       "      <td>5</td>\n",
       "      <td>71280</td>\n",
       "      <td>312802</td>\n",
       "    </tr>\n",
       "    <tr>\n",
       "      <th>...</th>\n",
       "      <td>...</td>\n",
       "      <td>...</td>\n",
       "      <td>...</td>\n",
       "      <td>...</td>\n",
       "      <td>...</td>\n",
       "      <td>...</td>\n",
       "    </tr>\n",
       "    <tr>\n",
       "      <th>995</th>\n",
       "      <td>computer hardware</td>\n",
       "      <td>associate's degree</td>\n",
       "      <td>1</td>\n",
       "      <td>1</td>\n",
       "      <td>70083</td>\n",
       "      <td>177953</td>\n",
       "    </tr>\n",
       "    <tr>\n",
       "      <th>996</th>\n",
       "      <td>computer software</td>\n",
       "      <td>associate's degree</td>\n",
       "      <td>1</td>\n",
       "      <td>0</td>\n",
       "      <td>68648</td>\n",
       "      <td>103703</td>\n",
       "    </tr>\n",
       "    <tr>\n",
       "      <th>997</th>\n",
       "      <td>peripherals</td>\n",
       "      <td>associate's degree</td>\n",
       "      <td>2</td>\n",
       "      <td>8</td>\n",
       "      <td>108354</td>\n",
       "      <td>450011</td>\n",
       "    </tr>\n",
       "    <tr>\n",
       "      <th>998</th>\n",
       "      <td>peripherals</td>\n",
       "      <td>associate's degree</td>\n",
       "      <td>2</td>\n",
       "      <td>3</td>\n",
       "      <td>79035</td>\n",
       "      <td>330354</td>\n",
       "    </tr>\n",
       "    <tr>\n",
       "      <th>999</th>\n",
       "      <td>computer hardware</td>\n",
       "      <td>some college</td>\n",
       "      <td>0</td>\n",
       "      <td>9</td>\n",
       "      <td>108444</td>\n",
       "      <td>364436</td>\n",
       "    </tr>\n",
       "  </tbody>\n",
       "</table>\n",
       "<p>1000 rows × 6 columns</p>\n",
       "</div>"
      ],
      "text/plain": [
       "              division  level of education  training level  work experience  \\\n",
       "0             printers        some college               2                6   \n",
       "1             printers  associate's degree               2               10   \n",
       "2          peripherals         high school               0                9   \n",
       "3      office supplies  associate's degree               2                5   \n",
       "4      office supplies         high school               1                5   \n",
       "..                 ...                 ...             ...              ...   \n",
       "995  computer hardware  associate's degree               1                1   \n",
       "996  computer software  associate's degree               1                0   \n",
       "997        peripherals  associate's degree               2                8   \n",
       "998        peripherals  associate's degree               2                3   \n",
       "999  computer hardware        some college               0                9   \n",
       "\n",
       "     salary   sales  \n",
       "0     91684  372302  \n",
       "1    119679  495660  \n",
       "2     82045  320453  \n",
       "3     92949  377148  \n",
       "4     71280  312802  \n",
       "..      ...     ...  \n",
       "995   70083  177953  \n",
       "996   68648  103703  \n",
       "997  108354  450011  \n",
       "998   79035  330354  \n",
       "999  108444  364436  \n",
       "\n",
       "[1000 rows x 6 columns]"
      ]
     },
     "execution_count": 4,
     "metadata": {},
     "output_type": "execute_result"
    }
   ],
   "source": [
    "df"
   ]
  },
  {
   "cell_type": "code",
   "execution_count": 7,
   "metadata": {},
   "outputs": [
    {
     "data": {
      "text/plain": [
       "<AxesSubplot:xlabel='salary'>"
      ]
     },
     "execution_count": 7,
     "metadata": {},
     "output_type": "execute_result"
    },
    {
     "data": {
      "image/png": "[encoded data removed]",
      "text/plain": [
       "<Figure size 432x288 with 1 Axes>"
      ]
     },
     "metadata": {
      "needs_background": "light"
     },
     "output_type": "display_data"
    }
   ],
   "source": [
    "sns.rugplot(x='salary',data=df,height=0.4)"
   ]
  },
  {
   "cell_type": "code",
   "execution_count": 13,
   "metadata": {},
   "outputs": [
    {
     "data": {
      "text/plain": [
       "<seaborn.axisgrid.FacetGrid at 0x157506ada08>"
      ]
     },
     "execution_count": 13,
     "metadata": {},
     "output_type": "execute_result"
    },
    {
     "data": {
      "image/png": "[encoded data removed]",
      "text/plain": [
       "<Figure size 360x360 with 1 Axes>"
      ]
     },
     "metadata": {},
     "output_type": "display_data"
    }
   ],
   "source": [
    "sns.set(style='whitegrid')\n",
    "sns.displot(x='salary',data=df,bins=50)"
   ]
  },
  {
   "cell_type": "code",
   "execution_count": 15,
   "metadata": {},
   "outputs": [],
   "source": [
    "np.random.seed(42)\n",
    "\n",
    "sample_ages = np.random.randint(0,100,200)\n"
   ]
  },
  {
   "cell_type": "code",
   "execution_count": null,
   "metadata": {},
   "outputs": [],
   "source": []
  }
 ],
 "metadata": {
  "kernelspec": {
   "display_name": "Python 3",
   "language": "python",
   "name": "python3"
  },
  "language_info": {
   "codemirror_mode": {
    "name": "ipython",
    "version": 3
   },
   "file_extension": ".py",
   "mimetype": "text/x-python",
   "name": "python",
   "nbconvert_exporter": "python",
   "pygments_lexer": "ipython3",
   "version": "3.7.9"
  }
 },
 "nbformat": 4,
 "nbformat_minor": 4
}
