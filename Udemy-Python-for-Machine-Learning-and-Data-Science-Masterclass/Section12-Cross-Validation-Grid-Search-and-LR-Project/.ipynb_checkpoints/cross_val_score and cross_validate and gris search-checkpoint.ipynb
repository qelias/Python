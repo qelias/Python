{
 "cells": [
  {
   "cell_type": "code",
   "execution_count": 2,
   "metadata": {},
   "outputs": [],
   "source": [
    "import numpy as np\n",
    "import pandas as pd\n",
    "import matplotlib.pyplot as plt\n",
    "import seaborn as sns\n",
    "filepath = 'G:\\\\Mes Documents\\\\Documents\\\\Python\\\\Udemy-Python-for-Machine-Learning-and-Data-Science-Masterclass\\\\Notes\\\\DATA'\n",
    "df = pd.read_csv(filepath+'\\\\Advertising.csv')"
   ]
  },
  {
   "cell_type": "code",
   "execution_count": 3,
   "metadata": {},
   "outputs": [
    {
     "data": {
      "text/html": [
       "<div>\n",
       "<style scoped>\n",
       "    .dataframe tbody tr th:only-of-type {\n",
       "        vertical-align: middle;\n",
       "    }\n",
       "\n",
       "    .dataframe tbody tr th {\n",
       "        vertical-align: top;\n",
       "    }\n",
       "\n",
       "    .dataframe thead th {\n",
       "        text-align: right;\n",
       "    }\n",
       "</style>\n",
       "<table border=\"1\" class=\"dataframe\">\n",
       "  <thead>\n",
       "    <tr style=\"text-align: right;\">\n",
       "      <th></th>\n",
       "      <th>TV</th>\n",
       "      <th>radio</th>\n",
       "      <th>newspaper</th>\n",
       "      <th>sales</th>\n",
       "    </tr>\n",
       "  </thead>\n",
       "  <tbody>\n",
       "    <tr>\n",
       "      <th>0</th>\n",
       "      <td>230.1</td>\n",
       "      <td>37.8</td>\n",
       "      <td>69.2</td>\n",
       "      <td>22.1</td>\n",
       "    </tr>\n",
       "    <tr>\n",
       "      <th>1</th>\n",
       "      <td>44.5</td>\n",
       "      <td>39.3</td>\n",
       "      <td>45.1</td>\n",
       "      <td>10.4</td>\n",
       "    </tr>\n",
       "    <tr>\n",
       "      <th>2</th>\n",
       "      <td>17.2</td>\n",
       "      <td>45.9</td>\n",
       "      <td>69.3</td>\n",
       "      <td>9.3</td>\n",
       "    </tr>\n",
       "    <tr>\n",
       "      <th>3</th>\n",
       "      <td>151.5</td>\n",
       "      <td>41.3</td>\n",
       "      <td>58.5</td>\n",
       "      <td>18.5</td>\n",
       "    </tr>\n",
       "    <tr>\n",
       "      <th>4</th>\n",
       "      <td>180.8</td>\n",
       "      <td>10.8</td>\n",
       "      <td>58.4</td>\n",
       "      <td>12.9</td>\n",
       "    </tr>\n",
       "    <tr>\n",
       "      <th>...</th>\n",
       "      <td>...</td>\n",
       "      <td>...</td>\n",
       "      <td>...</td>\n",
       "      <td>...</td>\n",
       "    </tr>\n",
       "    <tr>\n",
       "      <th>195</th>\n",
       "      <td>38.2</td>\n",
       "      <td>3.7</td>\n",
       "      <td>13.8</td>\n",
       "      <td>7.6</td>\n",
       "    </tr>\n",
       "    <tr>\n",
       "      <th>196</th>\n",
       "      <td>94.2</td>\n",
       "      <td>4.9</td>\n",
       "      <td>8.1</td>\n",
       "      <td>9.7</td>\n",
       "    </tr>\n",
       "    <tr>\n",
       "      <th>197</th>\n",
       "      <td>177.0</td>\n",
       "      <td>9.3</td>\n",
       "      <td>6.4</td>\n",
       "      <td>12.8</td>\n",
       "    </tr>\n",
       "    <tr>\n",
       "      <th>198</th>\n",
       "      <td>283.6</td>\n",
       "      <td>42.0</td>\n",
       "      <td>66.2</td>\n",
       "      <td>25.5</td>\n",
       "    </tr>\n",
       "    <tr>\n",
       "      <th>199</th>\n",
       "      <td>232.1</td>\n",
       "      <td>8.6</td>\n",
       "      <td>8.7</td>\n",
       "      <td>13.4</td>\n",
       "    </tr>\n",
       "  </tbody>\n",
       "</table>\n",
       "<p>200 rows × 4 columns</p>\n",
       "</div>"
      ],
      "text/plain": [
       "        TV  radio  newspaper  sales\n",
       "0    230.1   37.8       69.2   22.1\n",
       "1     44.5   39.3       45.1   10.4\n",
       "2     17.2   45.9       69.3    9.3\n",
       "3    151.5   41.3       58.5   18.5\n",
       "4    180.8   10.8       58.4   12.9\n",
       "..     ...    ...        ...    ...\n",
       "195   38.2    3.7       13.8    7.6\n",
       "196   94.2    4.9        8.1    9.7\n",
       "197  177.0    9.3        6.4   12.8\n",
       "198  283.6   42.0       66.2   25.5\n",
       "199  232.1    8.6        8.7   13.4\n",
       "\n",
       "[200 rows x 4 columns]"
      ]
     },
     "execution_count": 3,
     "metadata": {},
     "output_type": "execute_result"
    }
   ],
   "source": [
    "df"
   ]
  },
  {
   "cell_type": "code",
   "execution_count": 4,
   "metadata": {},
   "outputs": [],
   "source": [
    "X = df.drop('sales',axis=1)"
   ]
  },
  {
   "cell_type": "code",
   "execution_count": 5,
   "metadata": {},
   "outputs": [],
   "source": [
    "y = df['sales']"
   ]
  },
  {
   "cell_type": "code",
   "execution_count": 6,
   "metadata": {},
   "outputs": [],
   "source": [
    "from sklearn.model_selection import train_test_split"
   ]
  },
  {
   "cell_type": "code",
   "execution_count": 7,
   "metadata": {},
   "outputs": [],
   "source": [
    "X_train, X_test, y_train, y_test = train_test_split(X, y, test_size=0.3, random_state=101)"
   ]
  },
  {
   "cell_type": "code",
   "execution_count": 8,
   "metadata": {},
   "outputs": [],
   "source": [
    "from sklearn.preprocessing import StandardScaler"
   ]
  },
  {
   "cell_type": "code",
   "execution_count": 9,
   "metadata": {},
   "outputs": [],
   "source": [
    "scaler = StandardScaler()"
   ]
  },
  {
   "cell_type": "code",
   "execution_count": 10,
   "metadata": {},
   "outputs": [
    {
     "data": {
      "text/plain": [
       "StandardScaler()"
      ]
     },
     "execution_count": 10,
     "metadata": {},
     "output_type": "execute_result"
    }
   ],
   "source": [
    "scaler.fit(X_train)"
   ]
  },
  {
   "cell_type": "code",
   "execution_count": 11,
   "metadata": {},
   "outputs": [],
   "source": [
    "X_train = scaler.transform(X_train)"
   ]
  },
  {
   "cell_type": "code",
   "execution_count": 12,
   "metadata": {},
   "outputs": [],
   "source": [
    "X_test = scaler.transform(X_test)"
   ]
  },
  {
   "cell_type": "code",
   "execution_count": 13,
   "metadata": {},
   "outputs": [],
   "source": [
    "from sklearn.linear_model import Ridge\n",
    "model = Ridge(alpha=100)"
   ]
  },
  {
   "cell_type": "code",
   "execution_count": 14,
   "metadata": {},
   "outputs": [],
   "source": [
    "from sklearn.model_selection import cross_val_score"
   ]
  },
  {
   "cell_type": "raw",
   "metadata": {},
   "source": [
    "            scores = cross"
   ]
  },
  {
   "cell_type": "code",
   "execution_count": 15,
   "metadata": {},
   "outputs": [],
   "source": [
    "scores = cross_val_score(model,X_train,y_train,scoring='neg_mean_squared_error',cv=5)"
   ]
  },
  {
   "cell_type": "code",
   "execution_count": 16,
   "metadata": {},
   "outputs": [
    {
     "data": {
      "text/plain": [
       "array([ -9.32552967,  -4.9449624 , -11.39665242,  -7.0242106 ,\n",
       "        -8.38562723])"
      ]
     },
     "execution_count": 16,
     "metadata": {},
     "output_type": "execute_result"
    }
   ],
   "source": [
    "scores"
   ]
  },
  {
   "cell_type": "code",
   "execution_count": 17,
   "metadata": {},
   "outputs": [
    {
     "data": {
      "text/plain": [
       "8.215396464543607"
      ]
     },
     "execution_count": 17,
     "metadata": {},
     "output_type": "execute_result"
    }
   ],
   "source": [
    "abs(scores.mean())"
   ]
  },
  {
   "cell_type": "code",
   "execution_count": 18,
   "metadata": {},
   "outputs": [],
   "source": [
    "model = Ridge(alpha=1)"
   ]
  },
  {
   "cell_type": "code",
   "execution_count": 19,
   "metadata": {},
   "outputs": [
    {
     "name": "stdout",
     "output_type": "stream",
     "text": [
      "[-3.15513238 -1.58086982 -5.40455562 -2.21654481 -4.36709384]\n"
     ]
    },
    {
     "data": {
      "text/plain": [
       "3.344839296530695"
      ]
     },
     "execution_count": 19,
     "metadata": {},
     "output_type": "execute_result"
    }
   ],
   "source": [
    "scores = cross_val_score(model,X_train,y_train,scoring='neg_mean_squared_error',cv=5)\n",
    "print(scores)\n",
    "abs(scores.mean())"
   ]
  },
  {
   "cell_type": "code",
   "execution_count": 20,
   "metadata": {},
   "outputs": [
    {
     "data": {
      "text/plain": [
       "Ridge(alpha=1)"
      ]
     },
     "execution_count": 20,
     "metadata": {},
     "output_type": "execute_result"
    }
   ],
   "source": [
    "model.fit(X_train,y_train)"
   ]
  },
  {
   "cell_type": "code",
   "execution_count": 21,
   "metadata": {},
   "outputs": [],
   "source": [
    "y_final_test_pred = model.predict(X_test)"
   ]
  },
  {
   "cell_type": "code",
   "execution_count": 22,
   "metadata": {},
   "outputs": [
    {
     "data": {
      "text/plain": [
       "2.3190215794287514"
      ]
     },
     "execution_count": 22,
     "metadata": {},
     "output_type": "execute_result"
    }
   ],
   "source": [
    "from sklearn.metrics import mean_squared_error\n",
    "mean_squared_error(y_test,y_final_test_pred)"
   ]
  },
  {
   "cell_type": "code",
   "execution_count": null,
   "metadata": {},
   "outputs": [],
   "source": []
  },
  {
   "cell_type": "code",
   "execution_count": null,
   "metadata": {},
   "outputs": [],
   "source": []
  },
  {
   "cell_type": "code",
   "execution_count": 23,
   "metadata": {},
   "outputs": [],
   "source": [
    "from sklearn.model_selection import cross_validate"
   ]
  },
  {
   "cell_type": "code",
   "execution_count": 24,
   "metadata": {},
   "outputs": [],
   "source": [
    "model = Ridge(alpha=100)"
   ]
  },
  {
   "cell_type": "code",
   "execution_count": null,
   "metadata": {},
   "outputs": [],
   "source": []
  },
  {
   "cell_type": "code",
   "execution_count": 27,
   "metadata": {},
   "outputs": [],
   "source": [
    "from sklearn.linear_model import ElasticNet"
   ]
  },
  {
   "cell_type": "code",
   "execution_count": 28,
   "metadata": {},
   "outputs": [],
   "source": [
    "base_elastic_model = ElasticNet()"
   ]
  },
  {
   "cell_type": "code",
   "execution_count": 30,
   "metadata": {},
   "outputs": [],
   "source": [
    "param_grid = {'alpha':[0.1,1,5,10,50,100],'l1_ratio':[0.1,0.5,0.7,0.95,0.99,1]}"
   ]
  },
  {
   "cell_type": "code",
   "execution_count": 31,
   "metadata": {},
   "outputs": [],
   "source": [
    "from sklearn.model_selection import GridSearchCV"
   ]
  },
  {
   "cell_type": "code",
   "execution_count": 36,
   "metadata": {},
   "outputs": [],
   "source": [
    "grid_model = GridSearchCV(estimator=base_elastic_model, param_grid = param_grid, scoring='neg_mean_squared_error',cv=5,verbose=2)"
   ]
  },
  {
   "cell_type": "raw",
   "metadata": {},
   "source": [
    "\n"
   ]
  },
  {
   "cell_type": "code",
   "execution_count": 37,
   "metadata": {},
   "outputs": [
    {
     "data": {
      "text/plain": [
       "GridSearchCV(cv=5, estimator=ElasticNet(),\n",
       "             param_grid={'alpha': [0.1, 1, 5, 10, 50, 100],\n",
       "                         'l1_ratio': [0.1, 0.5, 0.7, 0.95, 0.99, 1]},\n",
       "             scoring='neg_mean_squared_error', verbose=2)"
      ]
     },
     "execution_count": 37,
     "metadata": {},
     "output_type": "execute_result"
    }
   ],
   "source": [
    "grid_model"
   ]
  },
  {
   "cell_type": "code",
   "execution_count": 38,
   "metadata": {},
   "outputs": [
    {
     "name": "stdout",
     "output_type": "stream",
     "text": [
      "Fitting 5 folds for each of 36 candidates, totalling 180 fits\n",
      "[CV] alpha=0.1, l1_ratio=0.1 .........................................\n",
      "[CV] .......................... alpha=0.1, l1_ratio=0.1, total=   0.0s\n",
      "[CV] alpha=0.1, l1_ratio=0.1 .........................................\n",
      "[CV] .......................... alpha=0.1, l1_ratio=0.1, total=   0.0s\n",
      "[CV] alpha=0.1, l1_ratio=0.1 .........................................\n",
      "[CV] .......................... alpha=0.1, l1_ratio=0.1, total=   0.0s\n",
      "[CV] alpha=0.1, l1_ratio=0.1 .........................................\n",
      "[CV] .......................... alpha=0.1, l1_ratio=0.1, total=   0.0s\n",
      "[CV] alpha=0.1, l1_ratio=0.1 .........................................\n",
      "[CV] .......................... alpha=0.1, l1_ratio=0.1, total=   0.0s\n",
      "[CV] alpha=0.1, l1_ratio=0.5 .........................................\n",
      "[CV] .......................... alpha=0.1, l1_ratio=0.5, total=   0.0s\n",
      "[CV] alpha=0.1, l1_ratio=0.5 .........................................\n",
      "[CV] .......................... alpha=0.1, l1_ratio=0.5, total=   0.0s\n",
      "[CV] alpha=0.1, l1_ratio=0.5 .........................................\n",
      "[CV] .......................... alpha=0.1, l1_ratio=0.5, total=   0.0s\n",
      "[CV] alpha=0.1, l1_ratio=0.5 .........................................\n",
      "[CV] .......................... alpha=0.1, l1_ratio=0.5, total=   0.0s\n",
      "[CV] alpha=0.1, l1_ratio=0.5 .........................................\n",
      "[CV] .......................... alpha=0.1, l1_ratio=0.5, total=   0.0s\n",
      "[CV] alpha=0.1, l1_ratio=0.7 .........................................\n",
      "[CV] .......................... alpha=0.1, l1_ratio=0.7, total=   0.0s\n",
      "[CV] alpha=0.1, l1_ratio=0.7 .........................................\n",
      "[CV] .......................... alpha=0.1, l1_ratio=0.7, total=   0.0s\n",
      "[CV] alpha=0.1, l1_ratio=0.7 .........................................\n",
      "[CV] .......................... alpha=0.1, l1_ratio=0.7, total=   0.0s\n",
      "[CV] alpha=0.1, l1_ratio=0.7 .........................................\n",
      "[CV] .......................... alpha=0.1, l1_ratio=0.7, total=   0.0s\n",
      "[CV] alpha=0.1, l1_ratio=0.7 .........................................\n",
      "[CV] .......................... alpha=0.1, l1_ratio=0.7, total=   0.0s\n",
      "[CV] alpha=0.1, l1_ratio=0.95 ........................................\n",
      "[CV] ......................... alpha=0.1, l1_ratio=0.95, total=   0.0s\n",
      "[CV] alpha=0.1, l1_ratio=0.95 ........................................\n",
      "[CV] ......................... alpha=0.1, l1_ratio=0.95, total=   0.0s\n",
      "[CV] alpha=0.1, l1_ratio=0.95 ........................................\n",
      "[CV] ......................... alpha=0.1, l1_ratio=0.95, total=   0.0s\n",
      "[CV] alpha=0.1, l1_ratio=0.95 ........................................\n",
      "[CV] ......................... alpha=0.1, l1_ratio=0.95, total=   0.0s\n",
      "[CV] alpha=0.1, l1_ratio=0.95 ........................................\n",
      "[CV] ......................... alpha=0.1, l1_ratio=0.95, total=   0.0s\n",
      "[CV] alpha=0.1, l1_ratio=0.99 ........................................\n",
      "[CV] ......................... alpha=0.1, l1_ratio=0.99, total=   0.0s\n",
      "[CV] alpha=0.1, l1_ratio=0.99 ........................................\n",
      "[CV] ......................... alpha=0.1, l1_ratio=0.99, total=   0.0s\n",
      "[CV] alpha=0.1, l1_ratio=0.99 ........................................\n",
      "[CV] ......................... alpha=0.1, l1_ratio=0.99, total=   0.0s\n",
      "[CV] alpha=0.1, l1_ratio=0.99 ........................................\n",
      "[CV] ......................... alpha=0.1, l1_ratio=0.99, total=   0.0s\n",
      "[CV] alpha=0.1, l1_ratio=0.99 ........................................\n",
      "[CV] ......................... alpha=0.1, l1_ratio=0.99, total=   0.0s\n",
      "[CV] alpha=0.1, l1_ratio=1 ...........................................\n",
      "[CV] ............................ alpha=0.1, l1_ratio=1, total=   0.0s\n",
      "[CV] alpha=0.1, l1_ratio=1 ...........................................\n",
      "[CV] ............................ alpha=0.1, l1_ratio=1, total=   0.0s\n",
      "[CV] alpha=0.1, l1_ratio=1 ...........................................\n",
      "[CV] ............................ alpha=0.1, l1_ratio=1, total=   0.0s\n",
      "[CV] alpha=0.1, l1_ratio=1 ...........................................\n",
      "[CV] ............................ alpha=0.1, l1_ratio=1, total=   0.0s\n",
      "[CV] alpha=0.1, l1_ratio=1 ...........................................\n",
      "[CV] ............................ alpha=0.1, l1_ratio=1, total=   0.0s\n",
      "[CV] alpha=1, l1_ratio=0.1 ...........................................\n",
      "[CV] ............................ alpha=1, l1_ratio=0.1, total=   0.0s\n",
      "[CV] alpha=1, l1_ratio=0.1 ...........................................\n",
      "[CV] ............................ alpha=1, l1_ratio=0.1, total=   0.0s\n",
      "[CV] alpha=1, l1_ratio=0.1 ...........................................\n",
      "[CV] ............................ alpha=1, l1_ratio=0.1, total=   0.0s\n",
      "[CV] alpha=1, l1_ratio=0.1 ...........................................\n",
      "[CV] ............................ alpha=1, l1_ratio=0.1, total=   0.0s\n",
      "[CV] alpha=1, l1_ratio=0.1 ...........................................\n",
      "[CV] ............................ alpha=1, l1_ratio=0.1, total=   0.0s\n",
      "[CV] alpha=1, l1_ratio=0.5 ...........................................\n",
      "[CV] ............................ alpha=1, l1_ratio=0.5, total=   0.0s\n",
      "[CV] alpha=1, l1_ratio=0.5 ...........................................\n",
      "[CV] ............................ alpha=1, l1_ratio=0.5, total=   0.0s\n",
      "[CV] alpha=1, l1_ratio=0.5 ...........................................\n",
      "[CV] ............................ alpha=1, l1_ratio=0.5, total=   0.0s\n",
      "[CV] alpha=1, l1_ratio=0.5 ...........................................\n",
      "[CV] ............................ alpha=1, l1_ratio=0.5, total=   0.0s\n",
      "[CV] alpha=1, l1_ratio=0.5 ...........................................\n",
      "[CV] ............................ alpha=1, l1_ratio=0.5, total=   0.0s\n",
      "[CV] alpha=1, l1_ratio=0.7 ...........................................\n",
      "[CV] ............................ alpha=1, l1_ratio=0.7, total=   0.0s\n",
      "[CV] alpha=1, l1_ratio=0.7 ...........................................\n",
      "[CV] ............................ alpha=1, l1_ratio=0.7, total=   0.0s\n",
      "[CV] alpha=1, l1_ratio=0.7 ...........................................\n",
      "[CV] ............................ alpha=1, l1_ratio=0.7, total=   0.0s\n",
      "[CV] alpha=1, l1_ratio=0.7 ...........................................\n",
      "[CV] ............................ alpha=1, l1_ratio=0.7, total=   0.0s\n",
      "[CV] alpha=1, l1_ratio=0.7 ...........................................\n",
      "[CV] ............................ alpha=1, l1_ratio=0.7, total=   0.0s\n",
      "[CV] alpha=1, l1_ratio=0.95 ..........................................\n",
      "[CV] ........................... alpha=1, l1_ratio=0.95, total=   0.0s\n",
      "[CV] alpha=1, l1_ratio=0.95 ..........................................\n",
      "[CV] ........................... alpha=1, l1_ratio=0.95, total=   0.0s\n",
      "[CV] alpha=1, l1_ratio=0.95 ..........................................\n",
      "[CV] ........................... alpha=1, l1_ratio=0.95, total=   0.0s\n",
      "[CV] alpha=1, l1_ratio=0.95 ..........................................\n",
      "[CV] ........................... alpha=1, l1_ratio=0.95, total=   0.0s\n",
      "[CV] alpha=1, l1_ratio=0.95 ..........................................\n",
      "[CV] ........................... alpha=1, l1_ratio=0.95, total=   0.0s\n",
      "[CV] alpha=1, l1_ratio=0.99 ..........................................\n",
      "[CV] ........................... alpha=1, l1_ratio=0.99, total=   0.0s\n",
      "[CV] alpha=1, l1_ratio=0.99 ..........................................\n",
      "[CV] ........................... alpha=1, l1_ratio=0.99, total=   0.0s\n",
      "[CV] alpha=1, l1_ratio=0.99 ..........................................\n",
      "[CV] ........................... alpha=1, l1_ratio=0.99, total=   0.0s\n",
      "[CV] alpha=1, l1_ratio=0.99 ..........................................\n",
      "[CV] ........................... alpha=1, l1_ratio=0.99, total=   0.0s\n",
      "[CV] alpha=1, l1_ratio=0.99 ..........................................\n",
      "[CV] ........................... alpha=1, l1_ratio=0.99, total=   0.0s\n",
      "[CV] alpha=1, l1_ratio=1 .............................................\n",
      "[CV] .............................. alpha=1, l1_ratio=1, total=   0.0s\n",
      "[CV] alpha=1, l1_ratio=1 .............................................\n",
      "[CV] .............................. alpha=1, l1_ratio=1, total=   0.0s\n",
      "[CV] alpha=1, l1_ratio=1 .............................................\n",
      "[CV] .............................. alpha=1, l1_ratio=1, total=   0.0s\n",
      "[CV] alpha=1, l1_ratio=1 .............................................\n",
      "[CV] .............................. alpha=1, l1_ratio=1, total=   0.0s\n",
      "[CV] alpha=1, l1_ratio=1 .............................................\n",
      "[CV] .............................. alpha=1, l1_ratio=1, total=   0.0s\n",
      "[CV] alpha=5, l1_ratio=0.1 ...........................................\n",
      "[CV] ............................ alpha=5, l1_ratio=0.1, total=   0.0s\n",
      "[CV] alpha=5, l1_ratio=0.1 ...........................................\n",
      "[CV] ............................ alpha=5, l1_ratio=0.1, total=   0.0s\n",
      "[CV] alpha=5, l1_ratio=0.1 ...........................................\n",
      "[CV] ............................ alpha=5, l1_ratio=0.1, total=   0.0s\n",
      "[CV] alpha=5, l1_ratio=0.1 ...........................................\n",
      "[CV] ............................ alpha=5, l1_ratio=0.1, total=   0.0s\n",
      "[CV] alpha=5, l1_ratio=0.1 ...........................................\n",
      "[CV] ............................ alpha=5, l1_ratio=0.1, total=   0.0s\n",
      "[CV] alpha=5, l1_ratio=0.5 ...........................................\n",
      "[CV] ............................ alpha=5, l1_ratio=0.5, total=   0.0s\n",
      "[CV] alpha=5, l1_ratio=0.5 ...........................................\n",
      "[CV] ............................ alpha=5, l1_ratio=0.5, total=   0.0s\n",
      "[CV] alpha=5, l1_ratio=0.5 ...........................................\n",
      "[CV] ............................ alpha=5, l1_ratio=0.5, total=   0.0s\n",
      "[CV] alpha=5, l1_ratio=0.5 ...........................................\n",
      "[CV] ............................ alpha=5, l1_ratio=0.5, total=   0.0s\n",
      "[CV] alpha=5, l1_ratio=0.5 ...........................................\n",
      "[CV] ............................ alpha=5, l1_ratio=0.5, total=   0.0s\n",
      "[CV] alpha=5, l1_ratio=0.7 ...........................................\n",
      "[CV] ............................ alpha=5, l1_ratio=0.7, total=   0.0s\n",
      "[CV] alpha=5, l1_ratio=0.7 ...........................................\n",
      "[CV] ............................ alpha=5, l1_ratio=0.7, total=   0.0s\n",
      "[CV] alpha=5, l1_ratio=0.7 ...........................................\n",
      "[CV] ............................ alpha=5, l1_ratio=0.7, total=   0.0s\n",
      "[CV] alpha=5, l1_ratio=0.7 ...........................................\n",
      "[CV] ............................ alpha=5, l1_ratio=0.7, total=   0.0s\n",
      "[CV] alpha=5, l1_ratio=0.7 ...........................................\n",
      "[CV] ............................ alpha=5, l1_ratio=0.7, total=   0.0s\n",
      "[CV] alpha=5, l1_ratio=0.95 ..........................................\n",
      "[CV] ........................... alpha=5, l1_ratio=0.95, total=   0.0s\n",
      "[CV] alpha=5, l1_ratio=0.95 ..........................................\n",
      "[CV] ........................... alpha=5, l1_ratio=0.95, total=   0.0s\n",
      "[CV] alpha=5, l1_ratio=0.95 ..........................................\n",
      "[CV] ........................... alpha=5, l1_ratio=0.95, total=   0.0s\n",
      "[CV] alpha=5, l1_ratio=0.95 ..........................................\n",
      "[CV] ........................... alpha=5, l1_ratio=0.95, total=   0.0s\n",
      "[CV] alpha=5, l1_ratio=0.95 ..........................................\n",
      "[CV] ........................... alpha=5, l1_ratio=0.95, total=   0.0s\n",
      "[CV] alpha=5, l1_ratio=0.99 ..........................................\n",
      "[CV] ........................... alpha=5, l1_ratio=0.99, total=   0.0s\n",
      "[CV] alpha=5, l1_ratio=0.99 ..........................................\n",
      "[CV] ........................... alpha=5, l1_ratio=0.99, total=   0.0s\n",
      "[CV] alpha=5, l1_ratio=0.99 ..........................................\n",
      "[CV] ........................... alpha=5, l1_ratio=0.99, total=   0.0s\n",
      "[CV] alpha=5, l1_ratio=0.99 ..........................................\n",
      "[CV] ........................... alpha=5, l1_ratio=0.99, total=   0.0s\n",
      "[CV] alpha=5, l1_ratio=0.99 ..........................................\n",
      "[CV] ........................... alpha=5, l1_ratio=0.99, total=   0.0s\n",
      "[CV] alpha=5, l1_ratio=1 .............................................\n",
      "[CV] .............................. alpha=5, l1_ratio=1, total=   0.0s\n",
      "[CV] alpha=5, l1_ratio=1 .............................................\n",
      "[CV] .............................. alpha=5, l1_ratio=1, total=   0.0s\n",
      "[CV] alpha=5, l1_ratio=1 .............................................\n",
      "[CV] .............................. alpha=5, l1_ratio=1, total=   0.0s\n",
      "[CV] alpha=5, l1_ratio=1 .............................................\n",
      "[CV] .............................. alpha=5, l1_ratio=1, total=   0.0s\n",
      "[CV] alpha=5, l1_ratio=1 .............................................\n",
      "[CV] .............................. alpha=5, l1_ratio=1, total=   0.0s\n",
      "[CV] alpha=10, l1_ratio=0.1 ..........................................\n",
      "[CV] ........................... alpha=10, l1_ratio=0.1, total=   0.0s\n",
      "[CV] alpha=10, l1_ratio=0.1 ..........................................\n",
      "[CV] ........................... alpha=10, l1_ratio=0.1, total=   0.0s\n",
      "[CV] alpha=10, l1_ratio=0.1 ..........................................\n",
      "[CV] ........................... alpha=10, l1_ratio=0.1, total=   0.0s\n",
      "[CV] alpha=10, l1_ratio=0.1 ..........................................\n",
      "[CV] ........................... alpha=10, l1_ratio=0.1, total=   0.0s\n",
      "[CV] alpha=10, l1_ratio=0.1 ..........................................\n",
      "[CV] ........................... alpha=10, l1_ratio=0.1, total=   0.0s\n",
      "[CV] alpha=10, l1_ratio=0.5 ..........................................\n",
      "[CV] ........................... alpha=10, l1_ratio=0.5, total=   0.0s\n",
      "[CV] alpha=10, l1_ratio=0.5 ..........................................\n",
      "[CV] ........................... alpha=10, l1_ratio=0.5, total=   0.0s\n",
      "[CV] alpha=10, l1_ratio=0.5 ..........................................\n",
      "[CV] ........................... alpha=10, l1_ratio=0.5, total=   0.0s\n",
      "[CV] alpha=10, l1_ratio=0.5 ..........................................\n",
      "[CV] ........................... alpha=10, l1_ratio=0.5, total=   0.0s\n",
      "[CV] alpha=10, l1_ratio=0.5 ..........................................\n",
      "[CV] ........................... alpha=10, l1_ratio=0.5, total=   0.0s\n",
      "[CV] alpha=10, l1_ratio=0.7 ..........................................\n",
      "[CV] ........................... alpha=10, l1_ratio=0.7, total=   0.0s\n",
      "[CV] alpha=10, l1_ratio=0.7 ..........................................\n"
     ]
    },
    {
     "name": "stderr",
     "output_type": "stream",
     "text": [
      "[Parallel(n_jobs=1)]: Using backend SequentialBackend with 1 concurrent workers.\n",
      "[Parallel(n_jobs=1)]: Done   1 out of   1 | elapsed:    0.0s remaining:    0.0s\n"
     ]
    },
    {
     "name": "stdout",
     "output_type": "stream",
     "text": [
      "[CV] ........................... alpha=10, l1_ratio=0.7, total=   0.0s\n",
      "[CV] alpha=10, l1_ratio=0.7 ..........................................\n",
      "[CV] ........................... alpha=10, l1_ratio=0.7, total=   0.0s\n",
      "[CV] alpha=10, l1_ratio=0.7 ..........................................\n",
      "[CV] ........................... alpha=10, l1_ratio=0.7, total=   0.0s\n",
      "[CV] alpha=10, l1_ratio=0.7 ..........................................\n",
      "[CV] ........................... alpha=10, l1_ratio=0.7, total=   0.0s\n",
      "[CV] alpha=10, l1_ratio=0.95 .........................................\n",
      "[CV] .......................... alpha=10, l1_ratio=0.95, total=   0.0s\n",
      "[CV] alpha=10, l1_ratio=0.95 .........................................\n",
      "[CV] .......................... alpha=10, l1_ratio=0.95, total=   0.0s\n",
      "[CV] alpha=10, l1_ratio=0.95 .........................................\n",
      "[CV] .......................... alpha=10, l1_ratio=0.95, total=   0.0s\n",
      "[CV] alpha=10, l1_ratio=0.95 .........................................\n",
      "[CV] .......................... alpha=10, l1_ratio=0.95, total=   0.0s\n",
      "[CV] alpha=10, l1_ratio=0.95 .........................................\n",
      "[CV] .......................... alpha=10, l1_ratio=0.95, total=   0.0s\n",
      "[CV] alpha=10, l1_ratio=0.99 .........................................\n",
      "[CV] .......................... alpha=10, l1_ratio=0.99, total=   0.0s\n",
      "[CV] alpha=10, l1_ratio=0.99 .........................................\n",
      "[CV] .......................... alpha=10, l1_ratio=0.99, total=   0.0s\n",
      "[CV] alpha=10, l1_ratio=0.99 .........................................\n",
      "[CV] .......................... alpha=10, l1_ratio=0.99, total=   0.0s\n",
      "[CV] alpha=10, l1_ratio=0.99 .........................................\n",
      "[CV] .......................... alpha=10, l1_ratio=0.99, total=   0.0s\n",
      "[CV] alpha=10, l1_ratio=0.99 .........................................\n",
      "[CV] .......................... alpha=10, l1_ratio=0.99, total=   0.0s\n",
      "[CV] alpha=10, l1_ratio=1 ............................................\n",
      "[CV] ............................. alpha=10, l1_ratio=1, total=   0.0s\n",
      "[CV] alpha=10, l1_ratio=1 ............................................\n",
      "[CV] ............................. alpha=10, l1_ratio=1, total=   0.0s\n",
      "[CV] alpha=10, l1_ratio=1 ............................................\n",
      "[CV] ............................. alpha=10, l1_ratio=1, total=   0.0s\n",
      "[CV] alpha=10, l1_ratio=1 ............................................\n",
      "[CV] ............................. alpha=10, l1_ratio=1, total=   0.0s\n",
      "[CV] alpha=10, l1_ratio=1 ............................................\n",
      "[CV] ............................. alpha=10, l1_ratio=1, total=   0.0s\n",
      "[CV] alpha=50, l1_ratio=0.1 ..........................................\n",
      "[CV] ........................... alpha=50, l1_ratio=0.1, total=   0.0s\n",
      "[CV] alpha=50, l1_ratio=0.1 ..........................................\n",
      "[CV] ........................... alpha=50, l1_ratio=0.1, total=   0.0s\n",
      "[CV] alpha=50, l1_ratio=0.1 ..........................................\n",
      "[CV] ........................... alpha=50, l1_ratio=0.1, total=   0.0s\n",
      "[CV] alpha=50, l1_ratio=0.1 ..........................................\n",
      "[CV] ........................... alpha=50, l1_ratio=0.1, total=   0.0s\n",
      "[CV] alpha=50, l1_ratio=0.1 ..........................................\n",
      "[CV] ........................... alpha=50, l1_ratio=0.1, total=   0.0s\n",
      "[CV] alpha=50, l1_ratio=0.5 ..........................................\n",
      "[CV] ........................... alpha=50, l1_ratio=0.5, total=   0.0s\n",
      "[CV] alpha=50, l1_ratio=0.5 ..........................................\n",
      "[CV] ........................... alpha=50, l1_ratio=0.5, total=   0.0s\n",
      "[CV] alpha=50, l1_ratio=0.5 ..........................................\n",
      "[CV] ........................... alpha=50, l1_ratio=0.5, total=   0.0s\n",
      "[CV] alpha=50, l1_ratio=0.5 ..........................................\n",
      "[CV] ........................... alpha=50, l1_ratio=0.5, total=   0.0s\n",
      "[CV] alpha=50, l1_ratio=0.5 ..........................................\n",
      "[CV] ........................... alpha=50, l1_ratio=0.5, total=   0.0s\n",
      "[CV] alpha=50, l1_ratio=0.7 ..........................................\n",
      "[CV] ........................... alpha=50, l1_ratio=0.7, total=   0.0s\n",
      "[CV] alpha=50, l1_ratio=0.7 ..........................................\n",
      "[CV] ........................... alpha=50, l1_ratio=0.7, total=   0.0s\n",
      "[CV] alpha=50, l1_ratio=0.7 ..........................................\n",
      "[CV] ........................... alpha=50, l1_ratio=0.7, total=   0.0s\n",
      "[CV] alpha=50, l1_ratio=0.7 ..........................................\n",
      "[CV] ........................... alpha=50, l1_ratio=0.7, total=   0.0s\n",
      "[CV] alpha=50, l1_ratio=0.7 ..........................................\n",
      "[CV] ........................... alpha=50, l1_ratio=0.7, total=   0.0s\n",
      "[CV] alpha=50, l1_ratio=0.95 .........................................\n",
      "[CV] .......................... alpha=50, l1_ratio=0.95, total=   0.0s\n",
      "[CV] alpha=50, l1_ratio=0.95 .........................................\n",
      "[CV] .......................... alpha=50, l1_ratio=0.95, total=   0.0s\n",
      "[CV] alpha=50, l1_ratio=0.95 .........................................\n",
      "[CV] .......................... alpha=50, l1_ratio=0.95, total=   0.0s\n",
      "[CV] alpha=50, l1_ratio=0.95 .........................................\n",
      "[CV] .......................... alpha=50, l1_ratio=0.95, total=   0.0s\n",
      "[CV] alpha=50, l1_ratio=0.95 .........................................\n",
      "[CV] .......................... alpha=50, l1_ratio=0.95, total=   0.0s\n",
      "[CV] alpha=50, l1_ratio=0.99 .........................................\n",
      "[CV] .......................... alpha=50, l1_ratio=0.99, total=   0.0s\n",
      "[CV] alpha=50, l1_ratio=0.99 .........................................\n",
      "[CV] .......................... alpha=50, l1_ratio=0.99, total=   0.0s\n",
      "[CV] alpha=50, l1_ratio=0.99 .........................................\n",
      "[CV] .......................... alpha=50, l1_ratio=0.99, total=   0.0s\n",
      "[CV] alpha=50, l1_ratio=0.99 .........................................\n",
      "[CV] .......................... alpha=50, l1_ratio=0.99, total=   0.0s\n",
      "[CV] alpha=50, l1_ratio=0.99 .........................................\n",
      "[CV] .......................... alpha=50, l1_ratio=0.99, total=   0.0s\n",
      "[CV] alpha=50, l1_ratio=1 ............................................\n",
      "[CV] ............................. alpha=50, l1_ratio=1, total=   0.0s\n",
      "[CV] alpha=50, l1_ratio=1 ............................................\n",
      "[CV] ............................. alpha=50, l1_ratio=1, total=   0.0s\n",
      "[CV] alpha=50, l1_ratio=1 ............................................\n",
      "[CV] ............................. alpha=50, l1_ratio=1, total=   0.0s\n",
      "[CV] alpha=50, l1_ratio=1 ............................................\n",
      "[CV] ............................. alpha=50, l1_ratio=1, total=   0.0s\n",
      "[CV] alpha=50, l1_ratio=1 ............................................\n",
      "[CV] ............................. alpha=50, l1_ratio=1, total=   0.0s\n",
      "[CV] alpha=100, l1_ratio=0.1 .........................................\n",
      "[CV] .......................... alpha=100, l1_ratio=0.1, total=   0.0s\n",
      "[CV] alpha=100, l1_ratio=0.1 .........................................\n",
      "[CV] .......................... alpha=100, l1_ratio=0.1, total=   0.0s\n",
      "[CV] alpha=100, l1_ratio=0.1 .........................................\n",
      "[CV] .......................... alpha=100, l1_ratio=0.1, total=   0.0s\n",
      "[CV] alpha=100, l1_ratio=0.1 .........................................\n",
      "[CV] .......................... alpha=100, l1_ratio=0.1, total=   0.0s\n",
      "[CV] alpha=100, l1_ratio=0.1 .........................................\n",
      "[CV] .......................... alpha=100, l1_ratio=0.1, total=   0.0s\n",
      "[CV] alpha=100, l1_ratio=0.5 .........................................\n",
      "[CV] .......................... alpha=100, l1_ratio=0.5, total=   0.0s\n",
      "[CV] alpha=100, l1_ratio=0.5 .........................................\n",
      "[CV] .......................... alpha=100, l1_ratio=0.5, total=   0.0s\n",
      "[CV] alpha=100, l1_ratio=0.5 .........................................\n",
      "[CV] .......................... alpha=100, l1_ratio=0.5, total=   0.0s\n",
      "[CV] alpha=100, l1_ratio=0.5 .........................................\n",
      "[CV] .......................... alpha=100, l1_ratio=0.5, total=   0.0s\n",
      "[CV] alpha=100, l1_ratio=0.5 .........................................\n",
      "[CV] .......................... alpha=100, l1_ratio=0.5, total=   0.0s\n",
      "[CV] alpha=100, l1_ratio=0.7 .........................................\n",
      "[CV] .......................... alpha=100, l1_ratio=0.7, total=   0.0s\n",
      "[CV] alpha=100, l1_ratio=0.7 .........................................\n",
      "[CV] .......................... alpha=100, l1_ratio=0.7, total=   0.0s\n",
      "[CV] alpha=100, l1_ratio=0.7 .........................................\n",
      "[CV] .......................... alpha=100, l1_ratio=0.7, total=   0.0s\n",
      "[CV] alpha=100, l1_ratio=0.7 .........................................\n",
      "[CV] .......................... alpha=100, l1_ratio=0.7, total=   0.0s\n",
      "[CV] alpha=100, l1_ratio=0.7 .........................................\n",
      "[CV] .......................... alpha=100, l1_ratio=0.7, total=   0.0s\n",
      "[CV] alpha=100, l1_ratio=0.95 ........................................\n",
      "[CV] ......................... alpha=100, l1_ratio=0.95, total=   0.0s\n",
      "[CV] alpha=100, l1_ratio=0.95 ........................................\n",
      "[CV] ......................... alpha=100, l1_ratio=0.95, total=   0.0s\n",
      "[CV] alpha=100, l1_ratio=0.95 ........................................\n",
      "[CV] ......................... alpha=100, l1_ratio=0.95, total=   0.0s\n",
      "[CV] alpha=100, l1_ratio=0.95 ........................................\n",
      "[CV] ......................... alpha=100, l1_ratio=0.95, total=   0.0s\n",
      "[CV] alpha=100, l1_ratio=0.95 ........................................\n",
      "[CV] ......................... alpha=100, l1_ratio=0.95, total=   0.0s\n",
      "[CV] alpha=100, l1_ratio=0.99 ........................................\n",
      "[CV] ......................... alpha=100, l1_ratio=0.99, total=   0.0s\n",
      "[CV] alpha=100, l1_ratio=0.99 ........................................\n",
      "[CV] ......................... alpha=100, l1_ratio=0.99, total=   0.0s\n",
      "[CV] alpha=100, l1_ratio=0.99 ........................................\n",
      "[CV] ......................... alpha=100, l1_ratio=0.99, total=   0.0s\n",
      "[CV] alpha=100, l1_ratio=0.99 ........................................\n",
      "[CV] ......................... alpha=100, l1_ratio=0.99, total=   0.0s\n",
      "[CV] alpha=100, l1_ratio=0.99 ........................................\n",
      "[CV] ......................... alpha=100, l1_ratio=0.99, total=   0.0s\n",
      "[CV] alpha=100, l1_ratio=1 ...........................................\n",
      "[CV] ............................ alpha=100, l1_ratio=1, total=   0.0s\n",
      "[CV] alpha=100, l1_ratio=1 ...........................................\n",
      "[CV] ............................ alpha=100, l1_ratio=1, total=   0.0s\n",
      "[CV] alpha=100, l1_ratio=1 ...........................................\n",
      "[CV] ............................ alpha=100, l1_ratio=1, total=   0.0s\n",
      "[CV] alpha=100, l1_ratio=1 ...........................................\n",
      "[CV] ............................ alpha=100, l1_ratio=1, total=   0.0s\n",
      "[CV] alpha=100, l1_ratio=1 ...........................................\n",
      "[CV] ............................ alpha=100, l1_ratio=1, total=   0.0s\n"
     ]
    },
    {
     "name": "stderr",
     "output_type": "stream",
     "text": [
      "[Parallel(n_jobs=1)]: Done 180 out of 180 | elapsed:    0.2s finished\n"
     ]
    },
    {
     "data": {
      "text/plain": [
       "GridSearchCV(cv=5, estimator=ElasticNet(),\n",
       "             param_grid={'alpha': [0.1, 1, 5, 10, 50, 100],\n",
       "                         'l1_ratio': [0.1, 0.5, 0.7, 0.95, 0.99, 1]},\n",
       "             scoring='neg_mean_squared_error', verbose=2)"
      ]
     },
     "execution_count": 38,
     "metadata": {},
     "output_type": "execute_result"
    }
   ],
   "source": [
    "grid_model.fit(X_train,y_train)"
   ]
  },
  {
   "cell_type": "code",
   "execution_count": 40,
   "metadata": {},
   "outputs": [
    {
     "data": {
      "text/plain": [
       "ElasticNet(alpha=0.1, l1_ratio=1)"
      ]
     },
     "execution_count": 40,
     "metadata": {},
     "output_type": "execute_result"
    }
   ],
   "source": [
    "grid_model.best_estimator_"
   ]
  },
  {
   "cell_type": "code",
   "execution_count": 42,
   "metadata": {},
   "outputs": [
    {
     "data": {
      "text/plain": [
       "{'mean_fit_time': array([0.        , 0.        , 0.        , 0.00312066, 0.        ,\n",
       "        0.00312424, 0.00130072, 0.        , 0.        , 0.        ,\n",
       "        0.        , 0.00312452, 0.        , 0.        , 0.        ,\n",
       "        0.01067958, 0.        , 0.        , 0.        , 0.        ,\n",
       "        0.        , 0.        , 0.        , 0.        , 0.        ,\n",
       "        0.        , 0.00312409, 0.        , 0.        , 0.00130086,\n",
       "        0.        , 0.        , 0.        , 0.        , 0.00312428,\n",
       "        0.        ]),\n",
       " 'std_fit_time': array([0.        , 0.        , 0.        , 0.00624132, 0.        ,\n",
       "        0.00624847, 0.00260143, 0.        , 0.        , 0.        ,\n",
       "        0.        , 0.00624905, 0.        , 0.        , 0.        ,\n",
       "        0.01828119, 0.        , 0.        , 0.        , 0.        ,\n",
       "        0.        , 0.        , 0.        , 0.        , 0.        ,\n",
       "        0.        , 0.00624819, 0.        , 0.        , 0.00260172,\n",
       "        0.        , 0.        , 0.        , 0.        , 0.00624857,\n",
       "        0.        ]),\n",
       " 'mean_score_time': array([0.        , 0.        , 0.        , 0.        , 0.        ,\n",
       "        0.        , 0.        , 0.        , 0.        , 0.        ,\n",
       "        0.        , 0.        , 0.        , 0.00312424, 0.        ,\n",
       "        0.        , 0.        , 0.        , 0.        , 0.        ,\n",
       "        0.        , 0.        , 0.00312448, 0.        , 0.        ,\n",
       "        0.        , 0.        , 0.        , 0.00312443, 0.        ,\n",
       "        0.        , 0.        , 0.        , 0.        , 0.        ,\n",
       "        0.        ]),\n",
       " 'std_score_time': array([0.        , 0.        , 0.        , 0.        , 0.        ,\n",
       "        0.        , 0.        , 0.        , 0.        , 0.        ,\n",
       "        0.        , 0.        , 0.        , 0.00624847, 0.        ,\n",
       "        0.        , 0.        , 0.        , 0.        , 0.        ,\n",
       "        0.        , 0.        , 0.00624895, 0.        , 0.        ,\n",
       "        0.        , 0.        , 0.        , 0.00624886, 0.        ,\n",
       "        0.        , 0.        , 0.        , 0.        , 0.        ,\n",
       "        0.        ]),\n",
       " 'param_alpha': masked_array(data=[0.1, 0.1, 0.1, 0.1, 0.1, 0.1, 1, 1, 1, 1, 1, 1, 5, 5,\n",
       "                    5, 5, 5, 5, 10, 10, 10, 10, 10, 10, 50, 50, 50, 50, 50,\n",
       "                    50, 100, 100, 100, 100, 100, 100],\n",
       "              mask=[False, False, False, False, False, False, False, False,\n",
       "                    False, False, False, False, False, False, False, False,\n",
       "                    False, False, False, False, False, False, False, False,\n",
       "                    False, False, False, False, False, False, False, False,\n",
       "                    False, False, False, False],\n",
       "        fill_value='?',\n",
       "             dtype=object),\n",
       " 'param_l1_ratio': masked_array(data=[0.1, 0.5, 0.7, 0.95, 0.99, 1, 0.1, 0.5, 0.7, 0.95,\n",
       "                    0.99, 1, 0.1, 0.5, 0.7, 0.95, 0.99, 1, 0.1, 0.5, 0.7,\n",
       "                    0.95, 0.99, 1, 0.1, 0.5, 0.7, 0.95, 0.99, 1, 0.1, 0.5,\n",
       "                    0.7, 0.95, 0.99, 1],\n",
       "              mask=[False, False, False, False, False, False, False, False,\n",
       "                    False, False, False, False, False, False, False, False,\n",
       "                    False, False, False, False, False, False, False, False,\n",
       "                    False, False, False, False, False, False, False, False,\n",
       "                    False, False, False, False],\n",
       "        fill_value='?',\n",
       "             dtype=object),\n",
       " 'params': [{'alpha': 0.1, 'l1_ratio': 0.1},\n",
       "  {'alpha': 0.1, 'l1_ratio': 0.5},\n",
       "  {'alpha': 0.1, 'l1_ratio': 0.7},\n",
       "  {'alpha': 0.1, 'l1_ratio': 0.95},\n",
       "  {'alpha': 0.1, 'l1_ratio': 0.99},\n",
       "  {'alpha': 0.1, 'l1_ratio': 1},\n",
       "  {'alpha': 1, 'l1_ratio': 0.1},\n",
       "  {'alpha': 1, 'l1_ratio': 0.5},\n",
       "  {'alpha': 1, 'l1_ratio': 0.7},\n",
       "  {'alpha': 1, 'l1_ratio': 0.95},\n",
       "  {'alpha': 1, 'l1_ratio': 0.99},\n",
       "  {'alpha': 1, 'l1_ratio': 1},\n",
       "  {'alpha': 5, 'l1_ratio': 0.1},\n",
       "  {'alpha': 5, 'l1_ratio': 0.5},\n",
       "  {'alpha': 5, 'l1_ratio': 0.7},\n",
       "  {'alpha': 5, 'l1_ratio': 0.95},\n",
       "  {'alpha': 5, 'l1_ratio': 0.99},\n",
       "  {'alpha': 5, 'l1_ratio': 1},\n",
       "  {'alpha': 10, 'l1_ratio': 0.1},\n",
       "  {'alpha': 10, 'l1_ratio': 0.5},\n",
       "  {'alpha': 10, 'l1_ratio': 0.7},\n",
       "  {'alpha': 10, 'l1_ratio': 0.95},\n",
       "  {'alpha': 10, 'l1_ratio': 0.99},\n",
       "  {'alpha': 10, 'l1_ratio': 1},\n",
       "  {'alpha': 50, 'l1_ratio': 0.1},\n",
       "  {'alpha': 50, 'l1_ratio': 0.5},\n",
       "  {'alpha': 50, 'l1_ratio': 0.7},\n",
       "  {'alpha': 50, 'l1_ratio': 0.95},\n",
       "  {'alpha': 50, 'l1_ratio': 0.99},\n",
       "  {'alpha': 50, 'l1_ratio': 1},\n",
       "  {'alpha': 100, 'l1_ratio': 0.1},\n",
       "  {'alpha': 100, 'l1_ratio': 0.5},\n",
       "  {'alpha': 100, 'l1_ratio': 0.7},\n",
       "  {'alpha': 100, 'l1_ratio': 0.95},\n",
       "  {'alpha': 100, 'l1_ratio': 0.99},\n",
       "  {'alpha': 100, 'l1_ratio': 1}],\n",
       " 'split0_test_score': array([ -3.45302084,  -3.32543978,  -3.26988015,  -3.21305234,\n",
       "         -3.20812418,  -3.20694314,  -9.82747531,  -8.70707114,\n",
       "         -7.92086988,  -6.72943525,  -6.52134437,  -6.46880733,\n",
       "        -22.97926512, -27.79348798, -29.65550965, -31.13030692,\n",
       "        -31.13030692, -31.13030692, -27.38534621, -31.13030692,\n",
       "        -31.13030692, -31.13030692, -31.13030692, -31.13030692,\n",
       "        -31.13030692, -31.13030692, -31.13030692, -31.13030692,\n",
       "        -31.13030692, -31.13030692, -31.13030692, -31.13030692,\n",
       "        -31.13030692, -31.13030692, -31.13030692, -31.13030692]),\n",
       " 'split1_test_score': array([ -1.40519031,  -1.42752204,  -1.44243242,  -1.47241701,\n",
       "         -1.47848929,  -1.48006527,  -5.26152539,  -4.2142284 ,\n",
       "         -3.54956183,  -2.59128522,  -2.4313846 ,  -2.39148256,\n",
       "        -15.54710357, -18.60226868, -21.08505942, -22.5494332 ,\n",
       "        -22.5494332 , -22.5494332 , -19.15953413, -22.5494332 ,\n",
       "        -22.5494332 , -22.5494332 , -22.5494332 , -22.5494332 ,\n",
       "        -22.5494332 , -22.5494332 , -22.5494332 , -22.5494332 ,\n",
       "        -22.5494332 , -22.5494332 , -22.5494332 , -22.5494332 ,\n",
       "        -22.5494332 , -22.5494332 , -22.5494332 , -22.5494332 ]),\n",
       " 'split2_test_score': array([ -5.78912486,  -5.59560964,  -5.50243731,  -5.39625768,\n",
       "         -5.38024154,  -5.3762568 , -11.87534671, -10.87926082,\n",
       "        -10.02487666,  -8.7098418 ,  -8.47108601,  -8.410171  ,\n",
       "        -23.66824886, -27.1078486 , -29.62947804, -31.15520408,\n",
       "        -31.15520408, -31.15520408, -27.63546439, -31.15520408,\n",
       "        -31.15520408, -31.15520408, -31.15520408, -31.15520408,\n",
       "        -31.15520408, -31.15520408, -31.15520408, -31.15520408,\n",
       "        -31.15520408, -31.15520408, -31.15520408, -31.15520408,\n",
       "        -31.15520408, -31.15520408, -31.15520408, -31.15520408]),\n",
       " 'split3_test_score': array([ -2.18730248,  -2.16308873,  -2.16395003,  -2.17745178,\n",
       "         -2.18109704,  -2.18207608,  -7.44919523,  -6.20454503,\n",
       "         -5.37955333,  -4.15631737,  -3.9463265 ,  -3.8935656 ,\n",
       "        -19.92106289, -23.94522746, -26.72459503, -27.96344707,\n",
       "        -27.96344707, -27.96344707, -24.15410359, -27.96344707,\n",
       "        -27.96344707, -27.96344707, -27.96344707, -27.96344707,\n",
       "        -27.96344707, -27.96344707, -27.96344707, -27.96344707,\n",
       "        -27.96344707, -27.96344707, -27.96344707, -27.96344707,\n",
       "        -27.96344707, -27.96344707, -27.96344707, -27.96344707]),\n",
       " 'split4_test_score': array([ -4.64557625,  -4.45167948,  -4.3567377 ,  -4.24107995,\n",
       "         -4.22296809,  -4.2184595 ,  -8.54232854,  -7.17303106,\n",
       "         -6.3248362 ,  -5.32991608,  -5.15134446,  -5.10592176,\n",
       "        -16.26273734, -18.06463498, -20.22365404, -21.69819196,\n",
       "        -21.69819196, -21.69819196, -18.96816086, -21.69819196,\n",
       "        -21.69819196, -21.69819196, -21.69819196, -21.69819196,\n",
       "        -21.69819196, -21.69819196, -21.69819196, -21.69819196,\n",
       "        -21.69819196, -21.69819196, -21.69819196, -21.69819196,\n",
       "        -21.69819196, -21.69819196, -21.69819196, -21.69819196]),\n",
       " 'mean_test_score': array([ -3.49604295,  -3.39266793,  -3.34708752,  -3.30005175,\n",
       "         -3.29418403,  -3.29276016,  -8.59117424,  -7.43562729,\n",
       "         -6.63993958,  -5.50335914,  -5.30429719,  -5.25398965,\n",
       "        -19.67568356, -23.10269354, -25.46365924, -26.89931665,\n",
       "        -26.89931665, -26.89931665, -23.46052183, -26.89931665,\n",
       "        -26.89931665, -26.89931665, -26.89931665, -26.89931665,\n",
       "        -26.89931665, -26.89931665, -26.89931665, -26.89931665,\n",
       "        -26.89931665, -26.89931665, -26.89931665, -26.89931665,\n",
       "        -26.89931665, -26.89931665, -26.89931665, -26.89931665]),\n",
       " 'std_test_score': array([1.591601  , 1.50682717, 1.46276536, 1.40624761, 1.39695326,\n",
       "        1.39461278, 2.22293916, 2.25553153, 2.20621303, 2.10283486,\n",
       "        2.07994524, 2.07383159, 3.33490073, 4.10829748, 4.07787705,\n",
       "        4.07723961, 4.07723961, 4.07723961, 3.79460801, 4.07723961,\n",
       "        4.07723961, 4.07723961, 4.07723961, 4.07723961, 4.07723961,\n",
       "        4.07723961, 4.07723961, 4.07723961, 4.07723961, 4.07723961,\n",
       "        4.07723961, 4.07723961, 4.07723961, 4.07723961, 4.07723961,\n",
       "        4.07723961]),\n",
       " 'rank_test_score': array([ 6,  5,  4,  3,  2,  1, 12, 11, 10,  9,  8,  7, 13, 14, 16, 17, 17,\n",
       "        17, 15, 17, 17, 17, 17, 17, 17, 17, 17, 17, 17, 17, 17, 17, 17, 17,\n",
       "        17, 17])}"
      ]
     },
     "execution_count": 42,
     "metadata": {},
     "output_type": "execute_result"
    }
   ],
   "source": [
    "grid_model.cv_results_"
   ]
  },
  {
   "cell_type": "code",
   "execution_count": 43,
   "metadata": {},
   "outputs": [],
   "source": [
    "result = pd.DataFrame(grid_model.cv_results_)"
   ]
  },
  {
   "cell_type": "raw",
   "metadata": {},
   "source": []
  }
 ],
 "metadata": {
  "kernelspec": {
   "display_name": "Python 3",
   "language": "python",
   "name": "python3"
  },
  "language_info": {
   "codemirror_mode": {
    "name": "ipython",
    "version": 3
   },
   "file_extension": ".py",
   "mimetype": "text/x-python",
   "name": "python",
   "nbconvert_exporter": "python",
   "pygments_lexer": "ipython3",
   "version": "3.7.9"
  }
 },
 "nbformat": 4,
 "nbformat_minor": 4
}
