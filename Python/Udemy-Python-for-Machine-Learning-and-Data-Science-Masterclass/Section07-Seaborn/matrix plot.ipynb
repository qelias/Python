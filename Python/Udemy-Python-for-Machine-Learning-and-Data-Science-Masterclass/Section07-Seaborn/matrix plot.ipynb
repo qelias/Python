{
 "cells": [
  {
   "cell_type": "code",
   "execution_count": 2,
   "metadata": {},
   "outputs": [
    {
     "data": {
      "text/html": [
       "<div>\n",
       "<style scoped>\n",
       "    .dataframe tbody tr th:only-of-type {\n",
       "        vertical-align: middle;\n",
       "    }\n",
       "\n",
       "    .dataframe tbody tr th {\n",
       "        vertical-align: top;\n",
       "    }\n",
       "\n",
       "    .dataframe thead th {\n",
       "        text-align: right;\n",
       "    }\n",
       "</style>\n",
       "<table border=\"1\" class=\"dataframe\">\n",
       "  <thead>\n",
       "    <tr style=\"text-align: right;\">\n",
       "      <th></th>\n",
       "      <th>Countries</th>\n",
       "      <th>Birth rate</th>\n",
       "      <th>Mortality rate</th>\n",
       "      <th>Life expectancy</th>\n",
       "      <th>Infant mortality rate</th>\n",
       "      <th>Growth rate</th>\n",
       "    </tr>\n",
       "  </thead>\n",
       "  <tbody>\n",
       "    <tr>\n",
       "      <th>0</th>\n",
       "      <td>AFRICA</td>\n",
       "      <td>32.577</td>\n",
       "      <td>7.837</td>\n",
       "      <td>63.472</td>\n",
       "      <td>44.215</td>\n",
       "      <td>24.40</td>\n",
       "    </tr>\n",
       "    <tr>\n",
       "      <th>1</th>\n",
       "      <td>ASIA</td>\n",
       "      <td>15.796</td>\n",
       "      <td>7.030</td>\n",
       "      <td>73.787</td>\n",
       "      <td>23.185</td>\n",
       "      <td>8.44</td>\n",
       "    </tr>\n",
       "    <tr>\n",
       "      <th>2</th>\n",
       "      <td>EUROPE</td>\n",
       "      <td>10.118</td>\n",
       "      <td>11.163</td>\n",
       "      <td>78.740</td>\n",
       "      <td>3.750</td>\n",
       "      <td>0.38</td>\n",
       "    </tr>\n",
       "    <tr>\n",
       "      <th>3</th>\n",
       "      <td>LATIN AMERICA AND THE CARIBBEAN</td>\n",
       "      <td>15.886</td>\n",
       "      <td>6.444</td>\n",
       "      <td>75.649</td>\n",
       "      <td>14.570</td>\n",
       "      <td>8.89</td>\n",
       "    </tr>\n",
       "    <tr>\n",
       "      <th>4</th>\n",
       "      <td>NORTHERN AMERICA</td>\n",
       "      <td>11.780</td>\n",
       "      <td>8.833</td>\n",
       "      <td>79.269</td>\n",
       "      <td>5.563</td>\n",
       "      <td>6.11</td>\n",
       "    </tr>\n",
       "    <tr>\n",
       "      <th>5</th>\n",
       "      <td>OCEANIA</td>\n",
       "      <td>16.235</td>\n",
       "      <td>6.788</td>\n",
       "      <td>78.880</td>\n",
       "      <td>16.939</td>\n",
       "      <td>12.79</td>\n",
       "    </tr>\n",
       "    <tr>\n",
       "      <th>6</th>\n",
       "      <td>WORLD</td>\n",
       "      <td>17.963</td>\n",
       "      <td>7.601</td>\n",
       "      <td>72.766</td>\n",
       "      <td>27.492</td>\n",
       "      <td>10.36</td>\n",
       "    </tr>\n",
       "  </tbody>\n",
       "</table>\n",
       "</div>"
      ],
      "text/plain": [
       "                         Countries  Birth rate  Mortality rate  \\\n",
       "0                           AFRICA      32.577           7.837   \n",
       "1                             ASIA      15.796           7.030   \n",
       "2                           EUROPE      10.118          11.163   \n",
       "3  LATIN AMERICA AND THE CARIBBEAN      15.886           6.444   \n",
       "4                 NORTHERN AMERICA      11.780           8.833   \n",
       "5                          OCEANIA      16.235           6.788   \n",
       "6                            WORLD      17.963           7.601   \n",
       "\n",
       "   Life expectancy  Infant mortality rate  Growth rate  \n",
       "0           63.472                 44.215        24.40  \n",
       "1           73.787                 23.185         8.44  \n",
       "2           78.740                  3.750         0.38  \n",
       "3           75.649                 14.570         8.89  \n",
       "4           79.269                  5.563         6.11  \n",
       "5           78.880                 16.939        12.79  \n",
       "6           72.766                 27.492        10.36  "
      ]
     },
     "execution_count": 2,
     "metadata": {},
     "output_type": "execute_result"
    }
   ],
   "source": [
    "import numpy as np\n",
    "import pandas as pd\n",
    "import matplotlib.pyplot as plt\n",
    "import seaborn as sns\n",
    "filepath = 'G:\\\\Mes Documents\\\\Documents\\\\Python\\\\Udemy-Python-for-Machine-Learning-and-Data-Science-Masterclass\\\\Notes\\\\05-Seaborn'\n",
    "df = pd.read_csv(filepath+'\\\\country_table.csv')\n",
    "df"
   ]
  },
  {
   "cell_type": "code",
   "execution_count": 3,
   "metadata": {},
   "outputs": [],
   "source": [
    "df = df.set_index(\"Countries\")"
   ]
  },
  {
   "cell_type": "code",
   "execution_count": 4,
   "metadata": {},
   "outputs": [
    {
     "data": {
      "text/html": [
       "<div>\n",
       "<style scoped>\n",
       "    .dataframe tbody tr th:only-of-type {\n",
       "        vertical-align: middle;\n",
       "    }\n",
       "\n",
       "    .dataframe tbody tr th {\n",
       "        vertical-align: top;\n",
       "    }\n",
       "\n",
       "    .dataframe thead th {\n",
       "        text-align: right;\n",
       "    }\n",
       "</style>\n",
       "<table border=\"1\" class=\"dataframe\">\n",
       "  <thead>\n",
       "    <tr style=\"text-align: right;\">\n",
       "      <th></th>\n",
       "      <th>Birth rate</th>\n",
       "      <th>Mortality rate</th>\n",
       "      <th>Life expectancy</th>\n",
       "      <th>Infant mortality rate</th>\n",
       "      <th>Growth rate</th>\n",
       "    </tr>\n",
       "    <tr>\n",
       "      <th>Countries</th>\n",
       "      <th></th>\n",
       "      <th></th>\n",
       "      <th></th>\n",
       "      <th></th>\n",
       "      <th></th>\n",
       "    </tr>\n",
       "  </thead>\n",
       "  <tbody>\n",
       "    <tr>\n",
       "      <th>AFRICA</th>\n",
       "      <td>32.577</td>\n",
       "      <td>7.837</td>\n",
       "      <td>63.472</td>\n",
       "      <td>44.215</td>\n",
       "      <td>24.40</td>\n",
       "    </tr>\n",
       "    <tr>\n",
       "      <th>ASIA</th>\n",
       "      <td>15.796</td>\n",
       "      <td>7.030</td>\n",
       "      <td>73.787</td>\n",
       "      <td>23.185</td>\n",
       "      <td>8.44</td>\n",
       "    </tr>\n",
       "    <tr>\n",
       "      <th>EUROPE</th>\n",
       "      <td>10.118</td>\n",
       "      <td>11.163</td>\n",
       "      <td>78.740</td>\n",
       "      <td>3.750</td>\n",
       "      <td>0.38</td>\n",
       "    </tr>\n",
       "    <tr>\n",
       "      <th>LATIN AMERICA AND THE CARIBBEAN</th>\n",
       "      <td>15.886</td>\n",
       "      <td>6.444</td>\n",
       "      <td>75.649</td>\n",
       "      <td>14.570</td>\n",
       "      <td>8.89</td>\n",
       "    </tr>\n",
       "    <tr>\n",
       "      <th>NORTHERN AMERICA</th>\n",
       "      <td>11.780</td>\n",
       "      <td>8.833</td>\n",
       "      <td>79.269</td>\n",
       "      <td>5.563</td>\n",
       "      <td>6.11</td>\n",
       "    </tr>\n",
       "    <tr>\n",
       "      <th>OCEANIA</th>\n",
       "      <td>16.235</td>\n",
       "      <td>6.788</td>\n",
       "      <td>78.880</td>\n",
       "      <td>16.939</td>\n",
       "      <td>12.79</td>\n",
       "    </tr>\n",
       "    <tr>\n",
       "      <th>WORLD</th>\n",
       "      <td>17.963</td>\n",
       "      <td>7.601</td>\n",
       "      <td>72.766</td>\n",
       "      <td>27.492</td>\n",
       "      <td>10.36</td>\n",
       "    </tr>\n",
       "  </tbody>\n",
       "</table>\n",
       "</div>"
      ],
      "text/plain": [
       "                                 Birth rate  Mortality rate  Life expectancy  \\\n",
       "Countries                                                                      \n",
       "AFRICA                               32.577           7.837           63.472   \n",
       "ASIA                                 15.796           7.030           73.787   \n",
       "EUROPE                               10.118          11.163           78.740   \n",
       "LATIN AMERICA AND THE CARIBBEAN      15.886           6.444           75.649   \n",
       "NORTHERN AMERICA                     11.780           8.833           79.269   \n",
       "OCEANIA                              16.235           6.788           78.880   \n",
       "WORLD                                17.963           7.601           72.766   \n",
       "\n",
       "                                 Infant mortality rate  Growth rate  \n",
       "Countries                                                            \n",
       "AFRICA                                          44.215        24.40  \n",
       "ASIA                                            23.185         8.44  \n",
       "EUROPE                                           3.750         0.38  \n",
       "LATIN AMERICA AND THE CARIBBEAN                 14.570         8.89  \n",
       "NORTHERN AMERICA                                 5.563         6.11  \n",
       "OCEANIA                                         16.939        12.79  \n",
       "WORLD                                           27.492        10.36  "
      ]
     },
     "execution_count": 4,
     "metadata": {},
     "output_type": "execute_result"
    }
   ],
   "source": [
    "df"
   ]
  },
  {
   "cell_type": "code",
   "execution_count": 10,
   "metadata": {},
   "outputs": [
    {
     "data": {
      "text/plain": [
       "<AxesSubplot:ylabel='Countries'>"
      ]
     },
     "execution_count": 10,
     "metadata": {},
     "output_type": "execute_result"
    },
    {
     "data": {
      "image/png": "[encoded data removed]",
      "text/plain": [
       "<Figure size 432x288 with 2 Axes>"
      ]
     },
     "metadata": {
      "needs_background": "light"
     },
     "output_type": "display_data"
    }
   ],
   "source": [
    "sns.heatmap(df.drop('Life expectancy',axis=1),lw=0.5,cmap='viridis',annot=True)"
   ]
  },
  {
   "cell_type": "code",
   "execution_count": 14,
   "metadata": {},
   "outputs": [
    {
     "data": {
      "text/plain": [
       "<seaborn.matrix.ClusterGrid at 0x1c783282f08>"
      ]
     },
     "execution_count": 14,
     "metadata": {},
     "output_type": "execute_result"
    },
    {
     "data": {
      "image/png": "[encoded data removed]",
      "text/plain": [
       "<Figure size 720x720 with 4 Axes>"
      ]
     },
     "metadata": {
      "needs_background": "light"
     },
     "output_type": "display_data"
    }
   ],
   "source": [
    "sns.clustermap(df.drop('Life expectancy',axis=1),lw=0.5,cmap='viridis',annot=True,col_cluster=False)"
   ]
  },
  {
   "cell_type": "code",
   "execution_count": null,
   "metadata": {},
   "outputs": [],
   "source": []
  }
 ],
 "metadata": {
  "kernelspec": {
   "display_name": "Python 3",
   "language": "python",
   "name": "python3"
  },
  "language_info": {
   "codemirror_mode": {
    "name": "ipython",
    "version": 3
   },
   "file_extension": ".py",
   "mimetype": "text/x-python",
   "name": "python",
   "nbconvert_exporter": "python",
   "pygments_lexer": "ipython3",
   "version": "3.7.9"
  }
 },
 "nbformat": 4,
 "nbformat_minor": 4
}
