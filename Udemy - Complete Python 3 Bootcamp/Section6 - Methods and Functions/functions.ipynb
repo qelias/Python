{
 "cells": [
  {
   "cell_type": "code",
   "execution_count": 3,
   "metadata": {},
   "outputs": [],
   "source": [
    "def my_function(name):\n",
    "    '''\n",
    "    azddz\n",
    "    '''\n",
    "    print(f\"{name}\")"
   ]
  },
  {
   "cell_type": "code",
   "execution_count": 5,
   "metadata": {},
   "outputs": [
    {
     "name": "stdout",
     "output_type": "stream",
     "text": [
      "bla\n",
      "6\n",
      "[0, 5, 4]\n"
     ]
    }
   ],
   "source": [
    "my_function(\"bla\")\n",
    "my_function(6)\n",
    "my_function([0,5,4])"
   ]
  },
  {
   "cell_type": "code",
   "execution_count": 6,
   "metadata": {},
   "outputs": [],
   "source": [
    "def bobo():\n",
    "    mylist=[0,1,2,3]\n",
    "    return mylist\n",
    "    "
   ]
  },
  {
   "cell_type": "code",
   "execution_count": 7,
   "metadata": {},
   "outputs": [],
   "source": [
    "mynewlist=bobo()"
   ]
  },
  {
   "cell_type": "code",
   "execution_count": 8,
   "metadata": {},
   "outputs": [
    {
     "data": {
      "text/plain": [
       "[0, 1, 2, 3]"
      ]
     },
     "execution_count": 8,
     "metadata": {},
     "output_type": "execute_result"
    }
   ],
   "source": [
    "mynewlist"
   ]
  },
  {
   "cell_type": "code",
   "execution_count": 16,
   "metadata": {},
   "outputs": [],
   "source": [
    "work_hours=[('Bob',10000),('Joe',200),('Fred',20),('Charles',1000)]\n",
    "        "
   ]
  },
  {
   "cell_type": "code",
   "execution_count": 10,
   "metadata": {},
   "outputs": [],
   "source": [
    "work_hours.sort()"
   ]
  },
  {
   "cell_type": "code",
   "execution_count": 11,
   "metadata": {},
   "outputs": [
    {
     "data": {
      "text/plain": [
       "[('Bob', 100), ('Charles', 1000), ('Fred', 20), ('Joe', 200)]"
      ]
     },
     "execution_count": 11,
     "metadata": {},
     "output_type": "execute_result"
    }
   ],
   "source": [
    "work_hours"
   ]
  },
  {
   "cell_type": "code",
   "execution_count": 35,
   "metadata": {},
   "outputs": [],
   "source": [
    "def employee_of_the_month(tuple_list):\n",
    "    max_hours=0\n",
    "    for item in enumerate(tuple_list):\n",
    "        if(item[1][1]>max_hours):\n",
    "            index=item[0]\n",
    "            max_hours=item[1][1]\n",
    "    return tuple_list[index]\n"
   ]
  },
  {
   "cell_type": "code",
   "execution_count": 15,
   "metadata": {},
   "outputs": [
    {
     "data": {
      "text/plain": [
       "'Charles'"
      ]
     },
     "execution_count": 15,
     "metadata": {},
     "output_type": "execute_result"
    }
   ],
   "source": [
    "employee_of_the_month(work_hours)"
   ]
  },
  {
   "cell_type": "code",
   "execution_count": 25,
   "metadata": {},
   "outputs": [
    {
     "data": {
      "text/plain": [
       "'Charles'"
      ]
     },
     "execution_count": 25,
     "metadata": {},
     "output_type": "execute_result"
    }
   ],
   "source": [
    "work_hours=[('Bob',10),('Joe',2),('Fred',20),('Charles',1000)]\n",
    "employee_of_the_month(work_hours)"
   ]
  },
  {
   "cell_type": "code",
   "execution_count": 36,
   "metadata": {},
   "outputs": [
    {
     "data": {
      "text/plain": [
       "('Bob', 10000)"
      ]
     },
     "execution_count": 36,
     "metadata": {},
     "output_type": "execute_result"
    }
   ],
   "source": [
    "work_hours=[('Bob',10000),('Joe',200),('Fred',20),('Charles',1000)]\n",
    "employee_of_the_month(work_hours)"
   ]
  },
  {
   "cell_type": "code",
   "execution_count": 37,
   "metadata": {},
   "outputs": [
    {
     "name": "stdout",
     "output_type": "stream",
     "text": [
      "('Bob', 10000)\n",
      "Bob\n",
      "10000\n"
     ]
    }
   ],
   "source": [
    "result=employee_of_the_month(work_hours)\n",
    "print(result)\n",
    "name,hours=employee_of_the_month(work_hours)\n",
    "print(name)\n",
    "print(hours)"
   ]
  },
  {
   "cell_type": "code",
   "execution_count": 5,
   "metadata": {},
   "outputs": [],
   "source": [
    "def cup_game():\n",
    "    cups=[True,False,False]\n",
    "    from random import shuffle\n",
    "    shuffle(cups)\n",
    "    guess=int(input(\"Choose a cup! left=0, center=1, or middle=2\"))\n",
    "    #while(guess!= 0 and guess != 1 and guess != 2):\n",
    "    while guess not in ([0,1,2]):\n",
    "        print(\"choose a value between 0, 1 and 2\")\n",
    "        guess=int(input(\"Choose a cup! left=0,center=1, or middle=2\"))\n",
    "    if cups[guess]==True:\n",
    "        print(\"YOU WIN!\")\n",
    "    else:\n",
    "        print(\"YOU LOSE!\")"
   ]
  },
  {
   "cell_type": "code",
   "execution_count": 9,
   "metadata": {},
   "outputs": [
    {
     "name": "stdout",
     "output_type": "stream",
     "text": [
      "Choose a cup! left=0, center=1, or middle=21\n",
      "YOU WIN!\n"
     ]
    }
   ],
   "source": [
    "cup_game()"
   ]
  },
  {
   "cell_type": "code",
   "execution_count": null,
   "metadata": {},
   "outputs": [],
   "source": []
  }
 ],
 "metadata": {
  "kernelspec": {
   "display_name": "Python 3",
   "language": "python",
   "name": "python3"
  },
  "language_info": {
   "codemirror_mode": {
    "name": "ipython",
    "version": 3
   },
   "file_extension": ".py",
   "mimetype": "text/x-python",
   "name": "python",
   "nbconvert_exporter": "python",
   "pygments_lexer": "ipython3",
   "version": "3.8.5"
  }
 },
 "nbformat": 4,
 "nbformat_minor": 4
}
